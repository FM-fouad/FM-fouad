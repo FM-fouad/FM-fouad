{
 "cells": [
  {
   "cell_type": "markdown",
   "metadata": {
    "colab_type": "text",
    "id": "3u6qAh9B6YOI"
   },
   "source": [
    "# Deep-Learning: Introduction to Convolutional Neural Networks"
   ]
  },
  {
   "cell_type": "markdown",
   "metadata": {
    "colab_type": "text",
    "id": "pKO2vQLhalS4"
   },
   "source": [
    "Welcome to a tutorial to get you quickly up to speed with *deep learning*; from first principles, all the way to discussions of some of the intricate details, with the purposes of achieving respectable performance on one established machine learning benchmark: [MNIST](http://yann.lecun.com/exdb/mnist/) (classification of handwritten digits).\n",
    "\n",
    "\n",
    "MNIST dataset                      \n",
    "![](http://perso.mines-paristech.fr/fabien.moutarde/ES_MachineLearning/TP_convNets/mnist.png)  \n",
    "\n",
    "By the end of this part of the tutorial, you should be capable of understanding and producing a simple CNN (with a structure similar to LeNet architecture) in Keras, achieving a respectable level of accuracy on MNIST.\n"
   ]
  },
  {
   "cell_type": "markdown",
   "metadata": {
    "colab_type": "text",
    "id": "VnhMNn9m6YOP"
   },
   "source": [
    "This code assume your already have installed <code>numpy</code>, <code>keras</code>, <code>tensorflow</code>, ... on your computer. If not, uncomment the adequate lines in the cell below:"
   ]
  },
  {
   "cell_type": "code",
   "execution_count": 1,
   "metadata": {
    "colab": {},
    "colab_type": "code",
    "id": "WBL5Mv9f6YOQ"
   },
   "outputs": [
    {
     "name": "stdout",
     "output_type": "stream",
     "text": [
      "Your python version: 3\n"
     ]
    }
   ],
   "source": [
    "import sys\n",
    "print('Your python version: {}'.format(sys.version_info.major))\n",
    "# Uncomment lines below only if you need them \n",
    "#!{sys.executable} -m pip install -U numpy --user\n",
    "#!{sys.executable} -m pip install -U matplotlib --user\n",
    "#!{sys.executable} -m pip install -U keras --user\n",
    "#!{sys.executable} -m pip install -U tensorflow --user\n",
    "#!{sys.executable} -m pip install -U theano --user"
   ]
  },
  {
   "cell_type": "code",
   "execution_count": 2,
   "metadata": {
    "colab": {},
    "colab_type": "code",
    "id": "n6jy07iiafbO"
   },
   "outputs": [],
   "source": [
    "USE_TENSORFLOW_AS_BACKEND = True\n",
    "FORCE_CPU = False"
   ]
  },
  {
   "cell_type": "code",
   "execution_count": 3,
   "metadata": {
    "colab": {},
    "colab_type": "code",
    "id": "3CIG3aWaafbS"
   },
   "outputs": [],
   "source": [
    "import os\n",
    "import numpy as np\n",
    "from numpy import newaxis\n",
    "import matplotlib.pyplot as plt"
   ]
  },
  {
   "cell_type": "code",
   "execution_count": 4,
   "metadata": {
    "colab": {},
    "colab_type": "code",
    "id": "viqDIqFDafbV"
   },
   "outputs": [],
   "source": [
    "#if USE_TENSORFLOW_AS_BACKEND:\n",
    "#    os.environ['KERAS_BACKEND'] = 'tensorflow'\n",
    "#else:\n",
    "#    os.environ['KERAS_BACKEND'] = 'theano'\n",
    "#if FORCE_CPU:\n",
    "#    os.environ[\"CUDA_DEVICE_ORDER\"] = \"PCI_BUS_ID\"   \n",
    "#    os.environ[\"CUDA_VISIBLE_DEVICES\"] = \"\""
   ]
  },
  {
   "cell_type": "code",
   "execution_count": 5,
   "metadata": {
    "colab": {},
    "colab_type": "code",
    "id": "Wje7hPXjafbX"
   },
   "outputs": [],
   "source": [
    "import tensorflow.keras as keras\n",
    "from tensorflow.keras import backend as K\n",
    "from tensorflow.keras import regularizers\n",
    "from tensorflow.keras.datasets import mnist # subroutines for fetching the MNIST dataset\n",
    "from tensorflow.keras.models import Model, Sequential # basic class for specifying and training a neural network\n",
    "from tensorflow.keras.layers import Input, Conv2D, MaxPooling2D, Dense, Dropout, Activation, Flatten\n",
    "from tensorflow.keras.utils import to_categorical # utilities for one-hot encoding of ground truth values"
   ]
  },
  {
   "cell_type": "code",
   "execution_count": 6,
   "metadata": {
    "colab": {},
    "colab_type": "code",
    "id": "Tgh1iZr-afba"
   },
   "outputs": [],
   "source": [
    "#if USE_TENSORFLOW_AS_BACKEND:\n",
    "#    K.set_image_dim_ordering('tf')\n",
    "#else:\n",
    "#    K.set_image_dim_ordering('th')"
   ]
  },
  {
   "cell_type": "code",
   "execution_count": 7,
   "metadata": {
    "colab": {},
    "colab_type": "code",
    "id": "jRM8mmQyafbe"
   },
   "outputs": [
    {
     "name": "stdout",
     "output_type": "stream",
     "text": [
      "Your keras version: 2.6.0\n",
      "Your tensorflow version: 2.6.2\n"
     ]
    }
   ],
   "source": [
    "print('Your keras version: {}'.format(keras.__version__))\n",
    "if USE_TENSORFLOW_AS_BACKEND == True:\n",
    "    import tensorflow\n",
    "    print('Your tensorflow version: {}'.format(tensorflow.__version__))\n",
    "else:\n",
    "    import theano\n",
    "    print('Your theano version: {}'.format(theano.__version__))"
   ]
  },
  {
   "cell_type": "code",
   "execution_count": 8,
   "metadata": {
    "colab": {},
    "colab_type": "code",
    "id": "-PsRmEbZafbi",
    "scrolled": true
   },
   "outputs": [
    {
     "name": "stdout",
     "output_type": "stream",
     "text": [
      "(60000, 28, 28) (60000,)\n",
      "(60000, 28, 28, 1) (60000, 10)\n"
     ]
    }
   ],
   "source": [
    "# --------------------------------------\n",
    "# Dataset variables\n",
    "# --------------------------------------\n",
    "num_train = 60000 # there are 60000 training examples in MNIST\n",
    "num_test = 10000  # there are 10000 test examples in MNIST\n",
    "height, width, depth = 28, 28, 1 # MNIST images are 28x28 with 1 channel (greyscale)\n",
    "num_classes = 10                 # there are 10 classes (1 per digit)\n",
    "\n",
    "# --------------------------------------\n",
    "# Dataset loading & preprocessing\n",
    "# --------------------------------------\n",
    "(X_train, y_train), (X_test, y_test) = mnist.load_data() # fetch MNIST data\n",
    "print(X_train.shape, y_train.shape)\n",
    "X_train = X_train.astype('float32') \n",
    "X_test = X_test.astype('float32')\n",
    "X_train /= 255 # Normalise data to [0, 1] range\n",
    "X_test /= 255 # Normalise data to [0, 1] range\n",
    "\n",
    "X_train = X_train[:, :, :,newaxis] # Reshape in \"convolutionable\" format (add tensor dim for the depth)\n",
    "X_test = X_test[:, :, :,newaxis] # Reshape in \"convolutionable\" format (add tensor dim for the depth)\n",
    "\n",
    "Y_train = to_categorical(y_train, num_classes) # One-hot encode the labels\n",
    "Y_test = to_categorical(y_test, num_classes) # One-hot encode the labels\n",
    "\n",
    "print(X_train.shape, Y_train.shape)"
   ]
  },
  {
   "cell_type": "code",
   "execution_count": 11,
   "metadata": {
    "colab": {},
    "colab_type": "code",
    "id": "YU9Q3hsmafbk",
    "scrolled": true
   },
   "outputs": [
    {
     "name": "stdout",
     "output_type": "stream",
     "text": [
      "Model: \"sequential_1\"\n",
      "_________________________________________________________________\n",
      "Layer (type)                 Output Shape              Param #   \n",
      "=================================================================\n",
      "conv2d_2 (Conv2D)            (None, 28, 28, 6)         156       \n",
      "_________________________________________________________________\n",
      "max_pooling2d_2 (MaxPooling2 (None, 14, 14, 6)         0         \n",
      "_________________________________________________________________\n",
      "dropout_3 (Dropout)          (None, 14, 14, 6)         0         \n",
      "_________________________________________________________________\n",
      "conv2d_3 (Conv2D)            (None, 14, 14, 16)        2416      \n",
      "_________________________________________________________________\n",
      "max_pooling2d_3 (MaxPooling2 (None, 7, 7, 16)          0         \n",
      "_________________________________________________________________\n",
      "dropout_4 (Dropout)          (None, 7, 7, 16)          0         \n",
      "_________________________________________________________________\n",
      "flatten_1 (Flatten)          (None, 784)               0         \n",
      "_________________________________________________________________\n",
      "dense_2 (Dense)              (None, 128)               100480    \n",
      "_________________________________________________________________\n",
      "dropout_5 (Dropout)          (None, 128)               0         \n",
      "_________________________________________________________________\n",
      "dense_3 (Dense)              (None, 10)                1290      \n",
      "=================================================================\n",
      "Total params: 104,342\n",
      "Trainable params: 104,342\n",
      "Non-trainable params: 0\n",
      "_________________________________________________________________\n",
      "None\n"
     ]
    }
   ],
   "source": [
    "# --------------------------------------\n",
    "# Network params\n",
    "# --------------------------------------\n",
    "# Network params\n",
    "batch_size = 32    # in each iteration, we consider 32 training examples at once\n",
    "num_epochs = 10    # we iterate 20 times over the entire training set\n",
    "kernel_size = 5    # we will use 5x5 kernels throughout\n",
    "pool_size = 2      # we will use 2x2 pooling throughout\n",
    "conv_depth_1 = 6   # we will initially have 6 kernels in first conv. layer...\n",
    "conv_depth_2 = 16  # ...switching to 16 after the first pooling layer\n",
    "drop_prob_1 = 0.5   # dropout after pooling with probability 0.5\n",
    "drop_prob_2 = 0.5   # dropout in the FC layer with probability 0.5\n",
    "hidden_size = 128  # the FC layer will have 128neurons\n",
    "weight_penalty = 0. # Factor for weights penalty\n",
    "\n",
    "# --------------------------------------\n",
    "# CNN network definition\n",
    "# --------------------------------------\n",
    "# inp = Input(shape=(1,height,width)) # greyscale --> depth==1\n",
    "# model = Model(input=inp, output=out) # To define a model, just specify its input and output layers\n",
    "\n",
    "model = Sequential()\n",
    "# Conv [8] -> Pool (with dropout on the pooling layer)\n",
    "model.add( Conv2D(conv_depth_1, (kernel_size,kernel_size), padding='same', activation='relu', data_format=\"channels_last\", input_shape=(28, 28,1)) )\n",
    "model.add( MaxPooling2D(pool_size=(pool_size, pool_size)))\n",
    "model.add( Dropout(drop_prob_1) )\n",
    "\n",
    "# Conv [16] -> Pool (with dropout on the pooling layer)\n",
    "model.add( Conv2D(conv_depth_2, (kernel_size,kernel_size), padding='same', activation='relu') )\n",
    "model.add( MaxPooling2D(pool_size=(pool_size, pool_size)) )\n",
    "model.add( Dropout(drop_prob_1) )\n",
    "\n",
    "# Now flatten to 1D, apply FC -> ReLU (with dropout) -> softmax\n",
    "model.add( Flatten() )\n",
    "model.add( Dense(hidden_size, activation='relu', kernel_regularizer=regularizers.l2(weight_penalty)) )\n",
    "model.add( Dropout(drop_prob_2) )\n",
    "model.add( Dense(num_classes, activation='softmax') )\n",
    "\n",
    "print(model.summary())"
   ]
  },
  {
   "cell_type": "code",
   "execution_count": 12,
   "metadata": {
    "colab": {},
    "colab_type": "code",
    "id": "tGoXjiL8afbm",
    "scrolled": true
   },
   "outputs": [
    {
     "name": "stdout",
     "output_type": "stream",
     "text": [
      "Epoch 1/10\n",
      "1125/1125 [==============================] - 88s 75ms/step - loss: 0.5998 - accuracy: 0.8041 - val_loss: 0.1458 - val_accuracy: 0.9605\n",
      "Epoch 2/10\n",
      "1125/1125 [==============================] - 84s 74ms/step - loss: 0.2804 - accuracy: 0.9130 - val_loss: 0.1012 - val_accuracy: 0.9703\n",
      "Epoch 3/10\n",
      "1125/1125 [==============================] - 89s 80ms/step - loss: 0.2382 - accuracy: 0.9261 - val_loss: 0.0875 - val_accuracy: 0.9757\n",
      "Epoch 4/10\n",
      "1125/1125 [==============================] - 83s 74ms/step - loss: 0.2087 - accuracy: 0.9373 - val_loss: 0.0795 - val_accuracy: 0.9765\n",
      "Epoch 5/10\n",
      "1125/1125 [==============================] - 72s 64ms/step - loss: 0.1889 - accuracy: 0.9416 - val_loss: 0.0733 - val_accuracy: 0.9779\n",
      "Epoch 6/10\n",
      "1125/1125 [==============================] - 10s 9ms/step - loss: 0.1830 - accuracy: 0.9430 - val_loss: 0.0755 - val_accuracy: 0.9780\n",
      "Epoch 7/10\n",
      "1125/1125 [==============================] - 11s 9ms/step - loss: 0.1767 - accuracy: 0.9457 - val_loss: 0.0699 - val_accuracy: 0.9803\n",
      "Epoch 8/10\n",
      "1125/1125 [==============================] - 10s 9ms/step - loss: 0.1703 - accuracy: 0.9477 - val_loss: 0.0621 - val_accuracy: 0.9820\n",
      "Epoch 9/10\n",
      "1125/1125 [==============================] - 10s 9ms/step - loss: 0.1599 - accuracy: 0.9525 - val_loss: 0.0623 - val_accuracy: 0.9818\n",
      "Epoch 10/10\n",
      "1125/1125 [==============================] - 11s 9ms/step - loss: 0.1605 - accuracy: 0.9509 - val_loss: 0.0643 - val_accuracy: 0.9822\n",
      "313/313 [==============================] - 1s 3ms/step - loss: 0.0552 - accuracy: 0.9851\n",
      "The final loss on the test set is: 0.06.\n",
      "The final accuracy on the test set is: 0.99.\n"
     ]
    }
   ],
   "source": [
    "# --------------------------------------\n",
    "# Loss function and Optimizer\n",
    "# --------------------------------------\n",
    "model.compile(loss='categorical_crossentropy', # using the cross-entropy loss function\n",
    "              optimizer='adam', # using the Adam optimiser\n",
    "              metrics=['accuracy']) # reporting the accuracy\n",
    "\n",
    "# --------------------------------------\n",
    "# Training\n",
    "# --------------------------------------\n",
    "history = model.fit(X_train, Y_train, # Train the model using the training set...\n",
    "          batch_size=batch_size, epochs=num_epochs,\n",
    "          verbose=1, validation_split=0.4) # ...holding out 40% of the data for validation\n",
    "\n",
    "# --------------------------------------\n",
    "# Evaluation\n",
    "# --------------------------------------\n",
    "for loss_name, loss_value in list(zip(model.metrics_names, model.evaluate(X_test, Y_test, verbose=1))):\n",
    "    print('The final {} on the test set is: {:.2f}.'.format(loss_name, loss_value)) # Evaluate the trained model on the test set!"
   ]
  },
  {
   "cell_type": "markdown",
   "metadata": {
    "colab_type": "text",
    "id": "2-Tm9hsmGk0F"
   },
   "source": [
    "**Plot the training history, in order to check if overfitting seems to have occured or not, and if more training epochs could be performed.**\n"
   ]
  },
  {
   "cell_type": "code",
   "execution_count": 13,
   "metadata": {
    "colab": {},
    "colab_type": "code",
    "id": "4RJwykPsbrJ2"
   },
   "outputs": [
    {
     "data": {
      "image/png": "[encoded data removed]",
      "text/plain": [
       "<Figure size 432x288 with 1 Axes>"
      ]
     },
     "metadata": {
      "needs_background": "light"
     },
     "output_type": "display_data"
    }
   ],
   "source": [
    "# --------------------------------------\n",
    "# Loss functions evolution\n",
    "# --------------------------------------\n",
    "plt.plot(history.history['loss'])\n",
    "plt.plot(history.history['val_loss'])\n",
    "plt.title('Model loss by epoch')\n",
    "plt.ylabel('loss')\n",
    "plt.xlabel('epoch')\n",
    "plt.legend(['train', 'test'], loc='right')\n",
    "plt.show()\n",
    "\n"
   ]
  }
 ],
 "metadata": {
  "accelerator": "GPU",
  "colab": {
   "collapsed_sections": [],
   "name": "LSML19_CNN_Introduction.ipynb",
   "provenance": [],
   "version": "0.3.2"
  },
  "kernelspec": {
   "display_name": "Python 3",
   "language": "python",
   "name": "python3"
  },
  "language_info": {
   "codemirror_mode": {
    "name": "ipython",
    "version": 3
   },
   "file_extension": ".py",
   "mimetype": "text/x-python",
   "name": "python",
   "nbconvert_exporter": "python",
   "pygments_lexer": "ipython3",
   "version": "3.6.13"
  }
 },
 "nbformat": 4,
 "nbformat_minor": 1
}
