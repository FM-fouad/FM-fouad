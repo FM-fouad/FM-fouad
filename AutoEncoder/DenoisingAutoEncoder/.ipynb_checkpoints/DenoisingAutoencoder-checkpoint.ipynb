{
 "cells": [
  {
   "cell_type": "code",
   "execution_count": 1,
   "metadata": {
    "colab": {
     "base_uri": "https://localhost:8080/",
     "height": 35
    },
    "colab_type": "code",
    "id": "QbygB5YNKEMJ",
    "outputId": "cfca99ba-bbe3-48ed-9ed1-a5c189ad9469"
   },
   "outputs": [],
   "source": [
    "import numpy as np\n",
    "from keras.datasets import mnist\n",
    "import matplotlib.pyplot as plt\n",
    "from tqdm import tqdm\n",
    "from torchvision import transforms\n",
    "import torch.nn as nn\n",
    "from torch.utils.data import DataLoader,Dataset\n",
    "import torch\n",
    "import torch.optim as optim\n",
    "from torch.autograd import Variable"
   ]
  },
  {
   "cell_type": "code",
   "execution_count": 2,
   "metadata": {
    "colab": {},
    "colab_type": "code",
    "id": "fbKtjNSyKclx"
   },
   "outputs": [],
   "source": [
    "\"\"\"\n",
    "Here we load the dataset, add gaussian,poisson,speckle\n",
    "\n",
    "    'gauss'     Gaussian-distributed additive noise.\n",
    "    'speckle'   Multiplicative noise using out = image + n*image,where\n",
    "                n is uniform noise with specified mean & variance.\n",
    "                \n",
    "We define a function that adds each noise when called from main function\n",
    "Input & Output: np array\n",
    "                \n",
    "\"\"\"\n",
    "\n",
    "\n",
    "def add_noise(img,noise_type=\"gaussian\"):\n",
    "  \n",
    "  row,col=28,28 # 28 is the image shape\n",
    "  img=img.astype(np.float32)\n",
    "  \n",
    "  if noise_type==\"gaussian\":\n",
    "    mean=0\n",
    "    var=10\n",
    "    sigma=var**.5\n",
    "    noise=np.random.normal(-5.9,5.9,img.shape)\n",
    "    noise=noise.reshape(row,col)\n",
    "    img=img+noise\n",
    "    return img\n",
    "\n",
    "  if noise_type==\"speckle\":\n",
    "    noise=np.random.randn(row,col)\n",
    "    noise=noise.reshape(row,col)\n",
    "    img=img+img*noise\n",
    "    return img\n"
   ]
  },
  {
   "cell_type": "code",
   "execution_count": 3,
   "metadata": {
    "colab": {
     "base_uri": "https://localhost:8080/",
     "height": 87
    },
    "colab_type": "code",
    "id": "crPgb8VXOceY",
    "outputId": "ada9c8c1-4bbc-4880-ca46-cfa504885fe9"
   },
   "outputs": [
    {
     "name": "stdout",
     "output_type": "stream",
     "text": [
      "No of training datapoints:60000\n",
      "No of Test datapoints:10000\n",
      "(60000, 28, 28)\n"
     ]
    }
   ],
   "source": [
    "#Here we load the dataset from keras\n",
    "(xtrain,ytrain),(xtest,ytest)=mnist.load_data()\n",
    "print(\"No of training datapoints:{}\\nNo of Test datapoints:{}\".format(len(xtrain),len(xtest)))\n",
    "print(xtrain.shape)"
   ]
  },
  {
   "cell_type": "code",
   "execution_count": 4,
   "metadata": {
    "colab": {
     "base_uri": "https://localhost:8080/",
     "height": 191
    },
    "colab_type": "code",
    "id": "7kq9PiLARTic",
    "outputId": "480e62e7-4ed2-4278-c47c-f7770accaad2"
   },
   "outputs": [
    {
     "name": "stderr",
     "output_type": "stream",
     "text": [
      " 58%|██████████████████████████████████████████▌                              | 34934/60000 [00:01<00:00, 25236.33it/s]"
     ]
    },
    {
     "name": "stdout",
     "output_type": "stream",
     "text": [
      "\n",
      "gaussian noise addition completed to images\n"
     ]
    },
    {
     "name": "stderr",
     "output_type": "stream",
     "text": [
      "100%|█████████████████████████████████████████████████████████████████████████| 60000/60000 [00:02<00:00, 24047.18it/s]\n"
     ]
    },
    {
     "name": "stdout",
     "output_type": "stream",
     "text": [
      "\n",
      "speckle noise addition completed to images\n"
     ]
    },
    {
     "name": "stderr",
     "output_type": "stream",
     "text": [
      "100%|█████████████████████████████████████████████████████████████████████████| 10000/10000 [00:00<00:00, 23166.86it/s]"
     ]
    },
    {
     "name": "stdout",
     "output_type": "stream",
     "text": [
      "\n",
      "gaussian noise addition completed to images\n",
      "\n",
      "speckle noise addition completed to images\n"
     ]
    },
    {
     "name": "stderr",
     "output_type": "stream",
     "text": [
      "\n"
     ]
    }
   ],
   "source": [
    "\"\"\"\n",
    "From here onwards,we split the 60k training datapoints into 3 sets each given one type of each noise.\n",
    "We shuffle them for better generalization.\n",
    "\"\"\"\n",
    "noises=[\"gaussian\",\"speckle\"]\n",
    "noise_ct=0\n",
    "noise_id=0\n",
    "traindata=np.zeros((60000,28,28))\n",
    "\n",
    "\n",
    "for idx in tqdm(range(len(xtrain))):\n",
    "  \n",
    "  if noise_ct<(len(xtrain)/2):\n",
    "    noise_ct+=1\n",
    "    traindata[idx]=add_noise(xtrain[idx],noise_type=noises[noise_id])\n",
    "    \n",
    "  else:\n",
    "    print(\"\\n{} noise addition completed to images\".format(noises[noise_id]))\n",
    "    noise_id+=1\n",
    "    noise_ct=0\n",
    "\n",
    "\n",
    "print(\"\\n{} noise addition completed to images\".format(noises[noise_id])) \n",
    "\n",
    "\n",
    "\n",
    "\n",
    "noise_ct=0\n",
    "noise_id=0\n",
    "testdata=np.zeros((10000,28,28))\n",
    "\n",
    "for idx in tqdm(range(len(xtest))):\n",
    "  if noise_ct<(len(xtest)/2):\n",
    "    noise_ct+=1\n",
    "    x=add_noise(xtest[idx],noise_type=noises[noise_id])\n",
    "    testdata[idx]=x\n",
    "    \n",
    "  else:\n",
    "    print(\"\\n{} noise addition completed to images\".format(noises[noise_id]))\n",
    "    noise_id+=1\n",
    "    noise_ct=0\n",
    "\n",
    "\n",
    "print(\"\\n{} noise addition completed to images\".format(noises[noise_id]))    \n",
    "  "
   ]
  },
  {
   "cell_type": "code",
   "execution_count": 5,
   "metadata": {
    "colab": {
     "base_uri": "https://localhost:8080/",
     "height": 299
    },
    "colab_type": "code",
    "id": "r1PruBRYUmYZ",
    "outputId": "78712c1a-755a-433a-cc34-4b501a2fad5a"
   },
   "outputs": [
    {
     "data": {
      "text/plain": [
       "Text(0.5, 1.0, 'Noised Image')"
      ]
     },
     "execution_count": 5,
     "metadata": {},
     "output_type": "execute_result"
    },
    {
     "data": {
      "image/png": "[encoded data removed]",
      "text/plain": [
       "<Figure size 432x288 with 4 Axes>"
      ]
     },
     "metadata": {
      "needs_background": "light"
     },
     "output_type": "display_data"
    }
   ],
   "source": [
    "\"\"\"\n",
    "Here we Try to visualize, each type of noise that was introduced in the images\n",
    "Along with their original versions\n",
    "\n",
    "\"\"\"\n",
    "\n",
    "f, axes=plt.subplots(2,2)\n",
    "\n",
    "#showing images with gaussian noise\n",
    "axes[0,0].imshow(xtrain[0],cmap=\"gray\")\n",
    "axes[0,0].set_title(\"Original Image\")\n",
    "axes[1,0].imshow(traindata[0],cmap='gray')\n",
    "axes[1,0].set_title(\"Noised Image\")\n",
    "\n",
    "#showing images with speckle noise\n",
    "axes[0,1].imshow(xtrain[25000],cmap='gray')\n",
    "axes[0,1].set_title(\"Original Image\")\n",
    "axes[1,1].imshow(traindata[25000],cmap=\"gray\")\n",
    "axes[1,1].set_title(\"Noised Image\")\n",
    "\n"
   ]
  },
  {
   "cell_type": "code",
   "execution_count": 6,
   "metadata": {
    "colab": {},
    "colab_type": "code",
    "id": "Vfchnr-E_kka"
   },
   "outputs": [],
   "source": [
    "class noisedDataset(Dataset):\n",
    "  \n",
    "  def __init__(self,datasetnoised,datasetclean,labels,transform):\n",
    "    self.noise=datasetnoised\n",
    "    self.clean=datasetclean\n",
    "    self.labels=labels\n",
    "    self.transform=transform\n",
    "  \n",
    "  def __len__(self):\n",
    "    return len(self.noise)\n",
    "  \n",
    "  def __getitem__(self,idx):\n",
    "    xNoise=self.noise[idx]\n",
    "    xClean=self.clean[idx]\n",
    "    y=self.labels[idx]\n",
    "    \n",
    "    if self.transform != None:\n",
    "      xNoise=self.transform(xNoise)\n",
    "      xClean=self.transform(xClean)\n",
    "      \n",
    "    \n",
    "    return (xNoise,xClean,y)\n",
    "      \n",
    "  \n",
    "    "
   ]
  },
  {
   "cell_type": "code",
   "execution_count": 7,
   "metadata": {
    "colab": {},
    "colab_type": "code",
    "id": "HyzkdVVUC6ps"
   },
   "outputs": [],
   "source": [
    "tsfms=transforms.Compose([\n",
    "    transforms.ToTensor()\n",
    "])\n",
    "\n",
    "trainset=noisedDataset(traindata,xtrain,ytrain,tsfms)\n",
    "testset=noisedDataset(testdata,xtest,ytest,tsfms)"
   ]
  },
  {
   "cell_type": "code",
   "execution_count": 8,
   "metadata": {
    "colab": {},
    "colab_type": "code",
    "id": "vTQ_iF1fXxC8"
   },
   "outputs": [],
   "source": [
    "\"\"\"\n",
    "Here , we create the trainloaders and testloaders.\n",
    "Also, we transform the images using standard lib functions\n",
    "\"\"\"\n",
    "\n",
    "\n",
    "batch_size=32\n",
    "\n",
    "\n",
    "\n",
    "trainloader=DataLoader(trainset,batch_size=32,shuffle=True)\n",
    "testloader=DataLoader(testset,batch_size=1,shuffle=True)\n",
    "\n"
   ]
  },
  {
   "cell_type": "code",
   "execution_count": 14,
   "metadata": {
    "colab": {},
    "colab_type": "code",
    "id": "1P60Cuv7pQO6"
   },
   "outputs": [
    {
     "name": "stdout",
     "output_type": "stream",
     "text": [
      "torch.Size([784])\n",
      "torch.Size([256])\n"
     ]
    }
   ],
   "source": [
    "\"\"\"\n",
    "Here, we define the autoencoder model.\n",
    "\"\"\"\n",
    "\n",
    "test = transforms.ToTensor()(traindata[0].astype(np.float32))\n",
    "test = test.reshape(-1)\n",
    "print(test.shape)\n",
    "linear1 = nn.Linear(28*28,256)\n",
    "print(linear1(test).shape)\n",
    "\n",
    "class denoising_model(nn.Module):\n",
    "  def __init__(self):\n",
    "    super(denoising_model,self).__init__()\n",
    "    self.encoder=nn.Sequential(\n",
    "                  nn.Linear(28*28,256),\n",
    "                  nn.ReLU(True),\n",
    "                  nn.Linear(256,128),\n",
    "                  nn.ReLU(True),\n",
    "                  nn.Linear(128,64),\n",
    "                  nn.ReLU(True)\n",
    "        \n",
    "                  )\n",
    "    \n",
    "    self.decoder=nn.Sequential(\n",
    "                  nn.Linear(64,128),\n",
    "                  nn.ReLU(True),\n",
    "                  nn.Linear(128,256),\n",
    "                  nn.ReLU(True),\n",
    "                  nn.Linear(256,28*28),\n",
    "                  nn.Sigmoid(),\n",
    "                  )\n",
    "    \n",
    " \n",
    "  def forward(self,x):\n",
    "    x=self.encoder(x)\n",
    "    x=self.decoder(x)\n",
    "    \n",
    "    return x\n",
    "  "
   ]
  },
  {
   "cell_type": "code",
   "execution_count": 19,
   "metadata": {
    "colab": {
     "base_uri": "https://localhost:8080/",
     "height": 6257
    },
    "colab_type": "code",
    "id": "S_AYl41OsNtt",
    "outputId": "e000921e-4fc4-4597-b5c5-023405347075"
   },
   "outputs": [
    {
     "name": "stdout",
     "output_type": "stream",
     "text": [
      "Entering Epoch:  0\n"
     ]
    },
    {
     "name": "stderr",
     "output_type": "stream",
     "text": [
      "100%|█████████████████████████████████████████████████████████████████████████████| 1875/1875 [00:06<00:00, 273.74it/s]\n"
     ]
    },
    {
     "name": "stdout",
     "output_type": "stream",
     "text": [
      "======> epoch: 0/50, Loss:0.07100880891084671\n",
      "Entering Epoch:  1\n"
     ]
    },
    {
     "name": "stderr",
     "output_type": "stream",
     "text": [
      "100%|█████████████████████████████████████████████████████████████████████████████| 1875/1875 [00:06<00:00, 276.33it/s]\n"
     ]
    },
    {
     "name": "stdout",
     "output_type": "stream",
     "text": [
      "======> epoch: 1/50, Loss:0.0701112449169159\n",
      "Entering Epoch:  2\n"
     ]
    },
    {
     "name": "stderr",
     "output_type": "stream",
     "text": [
      "100%|█████████████████████████████████████████████████████████████████████████████| 1875/1875 [00:06<00:00, 277.88it/s]\n"
     ]
    },
    {
     "name": "stdout",
     "output_type": "stream",
     "text": [
      "======> epoch: 2/50, Loss:0.06116991490125656\n",
      "Entering Epoch:  3\n"
     ]
    },
    {
     "name": "stderr",
     "output_type": "stream",
     "text": [
      "100%|█████████████████████████████████████████████████████████████████████████████| 1875/1875 [00:09<00:00, 203.61it/s]\n"
     ]
    },
    {
     "name": "stdout",
     "output_type": "stream",
     "text": [
      "======> epoch: 3/50, Loss:0.06527695059776306\n",
      "Entering Epoch:  4\n"
     ]
    },
    {
     "name": "stderr",
     "output_type": "stream",
     "text": [
      "100%|█████████████████████████████████████████████████████████████████████████████| 1875/1875 [00:09<00:00, 207.67it/s]\n"
     ]
    },
    {
     "name": "stdout",
     "output_type": "stream",
     "text": [
      "======> epoch: 4/50, Loss:0.05550166964530945\n",
      "Entering Epoch:  5\n"
     ]
    },
    {
     "name": "stderr",
     "output_type": "stream",
     "text": [
      "100%|█████████████████████████████████████████████████████████████████████████████| 1875/1875 [00:09<00:00, 197.38it/s]\n"
     ]
    },
    {
     "name": "stdout",
     "output_type": "stream",
     "text": [
      "======> epoch: 5/50, Loss:0.05160706490278244\n",
      "Entering Epoch:  6\n"
     ]
    },
    {
     "name": "stderr",
     "output_type": "stream",
     "text": [
      "100%|█████████████████████████████████████████████████████████████████████████████| 1875/1875 [00:10<00:00, 183.05it/s]\n"
     ]
    },
    {
     "name": "stdout",
     "output_type": "stream",
     "text": [
      "======> epoch: 6/50, Loss:0.05658528208732605\n",
      "Entering Epoch:  7\n"
     ]
    },
    {
     "name": "stderr",
     "output_type": "stream",
     "text": [
      "100%|█████████████████████████████████████████████████████████████████████████████| 1875/1875 [00:10<00:00, 171.32it/s]\n"
     ]
    },
    {
     "name": "stdout",
     "output_type": "stream",
     "text": [
      "======> epoch: 7/50, Loss:0.050951093435287476\n",
      "Entering Epoch:  8\n"
     ]
    },
    {
     "name": "stderr",
     "output_type": "stream",
     "text": [
      "100%|█████████████████████████████████████████████████████████████████████████████| 1875/1875 [00:11<00:00, 157.00it/s]\n"
     ]
    },
    {
     "name": "stdout",
     "output_type": "stream",
     "text": [
      "======> epoch: 8/50, Loss:0.05001179501414299\n",
      "Entering Epoch:  9\n"
     ]
    },
    {
     "name": "stderr",
     "output_type": "stream",
     "text": [
      "100%|█████████████████████████████████████████████████████████████████████████████| 1875/1875 [00:10<00:00, 174.19it/s]\n"
     ]
    },
    {
     "name": "stdout",
     "output_type": "stream",
     "text": [
      "======> epoch: 9/50, Loss:0.042946115136146545\n",
      "Entering Epoch:  10\n"
     ]
    },
    {
     "name": "stderr",
     "output_type": "stream",
     "text": [
      "100%|█████████████████████████████████████████████████████████████████████████████| 1875/1875 [00:11<00:00, 164.10it/s]\n"
     ]
    },
    {
     "name": "stdout",
     "output_type": "stream",
     "text": [
      "======> epoch: 10/50, Loss:0.03844500705599785\n",
      "Entering Epoch:  11\n"
     ]
    },
    {
     "name": "stderr",
     "output_type": "stream",
     "text": [
      "100%|█████████████████████████████████████████████████████████████████████████████| 1875/1875 [00:10<00:00, 173.65it/s]\n"
     ]
    },
    {
     "name": "stdout",
     "output_type": "stream",
     "text": [
      "======> epoch: 11/50, Loss:0.039275433868169785\n",
      "Entering Epoch:  12\n"
     ]
    },
    {
     "name": "stderr",
     "output_type": "stream",
     "text": [
      "100%|█████████████████████████████████████████████████████████████████████████████| 1875/1875 [00:12<00:00, 151.05it/s]\n"
     ]
    },
    {
     "name": "stdout",
     "output_type": "stream",
     "text": [
      "======> epoch: 12/50, Loss:0.0463283434510231\n",
      "Entering Epoch:  13\n"
     ]
    },
    {
     "name": "stderr",
     "output_type": "stream",
     "text": [
      "100%|█████████████████████████████████████████████████████████████████████████████| 1875/1875 [00:11<00:00, 157.03it/s]\n"
     ]
    },
    {
     "name": "stdout",
     "output_type": "stream",
     "text": [
      "======> epoch: 13/50, Loss:0.04130829498171806\n",
      "Entering Epoch:  14\n"
     ]
    },
    {
     "name": "stderr",
     "output_type": "stream",
     "text": [
      "100%|█████████████████████████████████████████████████████████████████████████████| 1875/1875 [00:10<00:00, 170.73it/s]\n"
     ]
    },
    {
     "name": "stdout",
     "output_type": "stream",
     "text": [
      "======> epoch: 14/50, Loss:0.04092862084507942\n",
      "Entering Epoch:  15\n"
     ]
    },
    {
     "name": "stderr",
     "output_type": "stream",
     "text": [
      "100%|█████████████████████████████████████████████████████████████████████████████| 1875/1875 [00:10<00:00, 172.34it/s]\n"
     ]
    },
    {
     "name": "stdout",
     "output_type": "stream",
     "text": [
      "======> epoch: 15/50, Loss:0.04365471750497818\n",
      "Entering Epoch:  16\n"
     ]
    },
    {
     "name": "stderr",
     "output_type": "stream",
     "text": [
      "100%|█████████████████████████████████████████████████████████████████████████████| 1875/1875 [00:11<00:00, 161.36it/s]\n"
     ]
    },
    {
     "name": "stdout",
     "output_type": "stream",
     "text": [
      "======> epoch: 16/50, Loss:0.0408819317817688\n",
      "Entering Epoch:  17\n"
     ]
    },
    {
     "name": "stderr",
     "output_type": "stream",
     "text": [
      "100%|█████████████████████████████████████████████████████████████████████████████| 1875/1875 [00:11<00:00, 168.74it/s]\n"
     ]
    },
    {
     "name": "stdout",
     "output_type": "stream",
     "text": [
      "======> epoch: 17/50, Loss:0.04154667630791664\n",
      "Entering Epoch:  18\n"
     ]
    },
    {
     "name": "stderr",
     "output_type": "stream",
     "text": [
      "100%|█████████████████████████████████████████████████████████████████████████████| 1875/1875 [00:10<00:00, 173.49it/s]\n"
     ]
    },
    {
     "name": "stdout",
     "output_type": "stream",
     "text": [
      "======> epoch: 18/50, Loss:0.03853350877761841\n",
      "Entering Epoch:  19\n"
     ]
    },
    {
     "name": "stderr",
     "output_type": "stream",
     "text": [
      "100%|█████████████████████████████████████████████████████████████████████████████| 1875/1875 [00:11<00:00, 169.82it/s]\n"
     ]
    },
    {
     "name": "stdout",
     "output_type": "stream",
     "text": [
      "======> epoch: 19/50, Loss:0.04101761057972908\n",
      "Entering Epoch:  20\n"
     ]
    },
    {
     "name": "stderr",
     "output_type": "stream",
     "text": [
      "100%|█████████████████████████████████████████████████████████████████████████████| 1875/1875 [00:12<00:00, 147.12it/s]\n"
     ]
    },
    {
     "name": "stdout",
     "output_type": "stream",
     "text": [
      "======> epoch: 20/50, Loss:0.03549058735370636\n",
      "Entering Epoch:  21\n"
     ]
    },
    {
     "name": "stderr",
     "output_type": "stream",
     "text": [
      "100%|█████████████████████████████████████████████████████████████████████████████| 1875/1875 [00:12<00:00, 156.18it/s]\n"
     ]
    },
    {
     "name": "stdout",
     "output_type": "stream",
     "text": [
      "======> epoch: 21/50, Loss:0.03817763924598694\n",
      "Entering Epoch:  22\n"
     ]
    },
    {
     "name": "stderr",
     "output_type": "stream",
     "text": [
      "100%|█████████████████████████████████████████████████████████████████████████████| 1875/1875 [00:11<00:00, 157.81it/s]\n"
     ]
    },
    {
     "name": "stdout",
     "output_type": "stream",
     "text": [
      "======> epoch: 22/50, Loss:0.03610233962535858\n",
      "Entering Epoch:  23\n"
     ]
    },
    {
     "name": "stderr",
     "output_type": "stream",
     "text": [
      "100%|█████████████████████████████████████████████████████████████████████████████| 1875/1875 [00:11<00:00, 168.76it/s]\n"
     ]
    },
    {
     "name": "stdout",
     "output_type": "stream",
     "text": [
      "======> epoch: 23/50, Loss:0.03645961731672287\n",
      "Entering Epoch:  24\n"
     ]
    },
    {
     "name": "stderr",
     "output_type": "stream",
     "text": [
      "100%|█████████████████████████████████████████████████████████████████████████████| 1875/1875 [00:10<00:00, 171.62it/s]\n"
     ]
    },
    {
     "name": "stdout",
     "output_type": "stream",
     "text": [
      "======> epoch: 24/50, Loss:0.03584948554635048\n",
      "Entering Epoch:  25\n"
     ]
    },
    {
     "name": "stderr",
     "output_type": "stream",
     "text": [
      "100%|█████████████████████████████████████████████████████████████████████████████| 1875/1875 [00:10<00:00, 171.52it/s]\n"
     ]
    },
    {
     "name": "stdout",
     "output_type": "stream",
     "text": [
      "======> epoch: 25/50, Loss:0.03199123218655586\n",
      "Entering Epoch:  26\n"
     ]
    },
    {
     "name": "stderr",
     "output_type": "stream",
     "text": [
      "100%|█████████████████████████████████████████████████████████████████████████████| 1875/1875 [00:10<00:00, 171.08it/s]\n"
     ]
    },
    {
     "name": "stdout",
     "output_type": "stream",
     "text": [
      "======> epoch: 26/50, Loss:0.030439473688602448\n",
      "Entering Epoch:  27\n"
     ]
    },
    {
     "name": "stderr",
     "output_type": "stream",
     "text": [
      "100%|█████████████████████████████████████████████████████████████████████████████| 1875/1875 [00:10<00:00, 171.48it/s]\n"
     ]
    },
    {
     "name": "stdout",
     "output_type": "stream",
     "text": [
      "======> epoch: 27/50, Loss:0.03152823820710182\n",
      "Entering Epoch:  28\n"
     ]
    },
    {
     "name": "stderr",
     "output_type": "stream",
     "text": [
      "100%|█████████████████████████████████████████████████████████████████████████████| 1875/1875 [00:10<00:00, 170.89it/s]\n"
     ]
    },
    {
     "name": "stdout",
     "output_type": "stream",
     "text": [
      "======> epoch: 28/50, Loss:0.035771287977695465\n",
      "Entering Epoch:  29\n"
     ]
    },
    {
     "name": "stderr",
     "output_type": "stream",
     "text": [
      "100%|█████████████████████████████████████████████████████████████████████████████| 1875/1875 [00:11<00:00, 167.19it/s]\n"
     ]
    },
    {
     "name": "stdout",
     "output_type": "stream",
     "text": [
      "======> epoch: 29/50, Loss:0.03624818101525307\n",
      "Entering Epoch:  30\n"
     ]
    },
    {
     "name": "stderr",
     "output_type": "stream",
     "text": [
      "100%|█████████████████████████████████████████████████████████████████████████████| 1875/1875 [00:11<00:00, 168.82it/s]\n"
     ]
    },
    {
     "name": "stdout",
     "output_type": "stream",
     "text": [
      "======> epoch: 30/50, Loss:0.028933946043252945\n",
      "Entering Epoch:  31\n"
     ]
    },
    {
     "name": "stderr",
     "output_type": "stream",
     "text": [
      "100%|█████████████████████████████████████████████████████████████████████████████| 1875/1875 [00:10<00:00, 170.63it/s]\n"
     ]
    },
    {
     "name": "stdout",
     "output_type": "stream",
     "text": [
      "======> epoch: 31/50, Loss:0.032333482056856155\n",
      "Entering Epoch:  32\n"
     ]
    },
    {
     "name": "stderr",
     "output_type": "stream",
     "text": [
      "100%|█████████████████████████████████████████████████████████████████████████████| 1875/1875 [00:11<00:00, 165.87it/s]\n"
     ]
    },
    {
     "name": "stdout",
     "output_type": "stream",
     "text": [
      "======> epoch: 32/50, Loss:0.031193463131785393\n",
      "Entering Epoch:  33\n"
     ]
    },
    {
     "name": "stderr",
     "output_type": "stream",
     "text": [
      "100%|█████████████████████████████████████████████████████████████████████████████| 1875/1875 [00:11<00:00, 164.24it/s]\n"
     ]
    },
    {
     "name": "stdout",
     "output_type": "stream",
     "text": [
      "======> epoch: 33/50, Loss:0.029864687472581863\n",
      "Entering Epoch:  34\n"
     ]
    },
    {
     "name": "stderr",
     "output_type": "stream",
     "text": [
      "100%|█████████████████████████████████████████████████████████████████████████████| 1875/1875 [00:11<00:00, 169.46it/s]\n"
     ]
    },
    {
     "name": "stdout",
     "output_type": "stream",
     "text": [
      "======> epoch: 34/50, Loss:0.03147996589541435\n",
      "Entering Epoch:  35\n"
     ]
    },
    {
     "name": "stderr",
     "output_type": "stream",
     "text": [
      "100%|█████████████████████████████████████████████████████████████████████████████| 1875/1875 [00:11<00:00, 169.20it/s]\n"
     ]
    },
    {
     "name": "stdout",
     "output_type": "stream",
     "text": [
      "======> epoch: 35/50, Loss:0.03233357146382332\n",
      "Entering Epoch:  36\n"
     ]
    },
    {
     "name": "stderr",
     "output_type": "stream",
     "text": [
      "100%|█████████████████████████████████████████████████████████████████████████████| 1875/1875 [00:11<00:00, 168.81it/s]\n"
     ]
    },
    {
     "name": "stdout",
     "output_type": "stream",
     "text": [
      "======> epoch: 36/50, Loss:0.03246006742119789\n",
      "Entering Epoch:  37\n"
     ]
    },
    {
     "name": "stderr",
     "output_type": "stream",
     "text": [
      "100%|█████████████████████████████████████████████████████████████████████████████| 1875/1875 [00:11<00:00, 168.57it/s]\n"
     ]
    },
    {
     "name": "stdout",
     "output_type": "stream",
     "text": [
      "======> epoch: 37/50, Loss:0.02747667394578457\n",
      "Entering Epoch:  38\n"
     ]
    },
    {
     "name": "stderr",
     "output_type": "stream",
     "text": [
      "100%|█████████████████████████████████████████████████████████████████████████████| 1875/1875 [00:11<00:00, 168.59it/s]\n"
     ]
    },
    {
     "name": "stdout",
     "output_type": "stream",
     "text": [
      "======> epoch: 38/50, Loss:0.03442193940281868\n",
      "Entering Epoch:  39\n"
     ]
    },
    {
     "name": "stderr",
     "output_type": "stream",
     "text": [
      "100%|█████████████████████████████████████████████████████████████████████████████| 1875/1875 [00:11<00:00, 169.33it/s]\n"
     ]
    },
    {
     "name": "stdout",
     "output_type": "stream",
     "text": [
      "======> epoch: 39/50, Loss:0.028281789273023605\n",
      "Entering Epoch:  40\n"
     ]
    },
    {
     "name": "stderr",
     "output_type": "stream",
     "text": [
      "100%|█████████████████████████████████████████████████████████████████████████████| 1875/1875 [00:11<00:00, 168.62it/s]\n"
     ]
    },
    {
     "name": "stdout",
     "output_type": "stream",
     "text": [
      "======> epoch: 40/50, Loss:0.026979200541973114\n",
      "Entering Epoch:  41\n"
     ]
    },
    {
     "name": "stderr",
     "output_type": "stream",
     "text": [
      "100%|█████████████████████████████████████████████████████████████████████████████| 1875/1875 [00:11<00:00, 169.34it/s]\n"
     ]
    },
    {
     "name": "stdout",
     "output_type": "stream",
     "text": [
      "======> epoch: 41/50, Loss:0.027914268895983696\n",
      "Entering Epoch:  42\n"
     ]
    },
    {
     "name": "stderr",
     "output_type": "stream",
     "text": [
      "100%|█████████████████████████████████████████████████████████████████████████████| 1875/1875 [00:11<00:00, 168.62it/s]\n"
     ]
    },
    {
     "name": "stdout",
     "output_type": "stream",
     "text": [
      "======> epoch: 42/50, Loss:0.029941082000732422\n",
      "Entering Epoch:  43\n"
     ]
    },
    {
     "name": "stderr",
     "output_type": "stream",
     "text": [
      "100%|█████████████████████████████████████████████████████████████████████████████| 1875/1875 [00:11<00:00, 168.49it/s]\n"
     ]
    },
    {
     "name": "stdout",
     "output_type": "stream",
     "text": [
      "======> epoch: 43/50, Loss:0.02984975092113018\n",
      "Entering Epoch:  44\n"
     ]
    },
    {
     "name": "stderr",
     "output_type": "stream",
     "text": [
      "100%|█████████████████████████████████████████████████████████████████████████████| 1875/1875 [00:11<00:00, 163.94it/s]\n"
     ]
    },
    {
     "name": "stdout",
     "output_type": "stream",
     "text": [
      "======> epoch: 44/50, Loss:0.02986631914973259\n",
      "Entering Epoch:  45\n"
     ]
    },
    {
     "name": "stderr",
     "output_type": "stream",
     "text": [
      "100%|█████████████████████████████████████████████████████████████████████████████| 1875/1875 [00:11<00:00, 168.49it/s]\n"
     ]
    },
    {
     "name": "stdout",
     "output_type": "stream",
     "text": [
      "======> epoch: 45/50, Loss:0.028734005987644196\n",
      "Entering Epoch:  46\n"
     ]
    },
    {
     "name": "stderr",
     "output_type": "stream",
     "text": [
      "100%|█████████████████████████████████████████████████████████████████████████████| 1875/1875 [00:11<00:00, 168.28it/s]\n"
     ]
    },
    {
     "name": "stdout",
     "output_type": "stream",
     "text": [
      "======> epoch: 46/50, Loss:0.02560020424425602\n",
      "Entering Epoch:  47\n"
     ]
    },
    {
     "name": "stderr",
     "output_type": "stream",
     "text": [
      "100%|█████████████████████████████████████████████████████████████████████████████| 1875/1875 [00:11<00:00, 169.34it/s]\n"
     ]
    },
    {
     "name": "stdout",
     "output_type": "stream",
     "text": [
      "======> epoch: 47/50, Loss:0.02705192379653454\n",
      "Entering Epoch:  48\n"
     ]
    },
    {
     "name": "stderr",
     "output_type": "stream",
     "text": [
      "100%|█████████████████████████████████████████████████████████████████████████████| 1875/1875 [00:11<00:00, 168.98it/s]\n"
     ]
    },
    {
     "name": "stdout",
     "output_type": "stream",
     "text": [
      "======> epoch: 48/50, Loss:0.028330598026514053\n",
      "Entering Epoch:  49\n"
     ]
    },
    {
     "name": "stderr",
     "output_type": "stream",
     "text": [
      "100%|█████████████████████████████████████████████████████████████████████████████| 1875/1875 [00:11<00:00, 168.82it/s]"
     ]
    },
    {
     "name": "stdout",
     "output_type": "stream",
     "text": [
      "======> epoch: 49/50, Loss:0.024014679715037346\n"
     ]
    },
    {
     "name": "stderr",
     "output_type": "stream",
     "text": [
      "\n"
     ]
    }
   ],
   "source": [
    "#We check whether cuda is available and choose device accordingly\n",
    "if torch.cuda.is_available()==True:\n",
    "  device=\"cuda:0\"\n",
    "else:\n",
    "  device =\"cpu\"\n",
    "\n",
    "  \n",
    "model=denoising_model().to(device)\n",
    "criterion=nn.MSELoss()\n",
    "optimizer=optim.SGD(model.parameters(),lr=0.01,weight_decay=1e-5)\n",
    "    \n",
    "epochs=50\n",
    "l=len(trainloader)\n",
    "losslist=list()\n",
    "epochloss=0\n",
    "running_loss=0\n",
    "for epoch in range(epochs):\n",
    "  \n",
    "  print(\"Entering Epoch: \",epoch)\n",
    "  for dirty,clean,label in tqdm((trainloader)):\n",
    "    \n",
    "    \n",
    "    dirty=dirty.view(dirty.size(0),-1).type(torch.FloatTensor)\n",
    "    clean=clean.view(clean.size(0),-1).type(torch.FloatTensor)\n",
    "    dirty,clean=dirty.to(device),clean.to(device)\n",
    "    \n",
    "    \n",
    "    \n",
    "    #-----------------Forward Pass----------------------\n",
    "    output=model(dirty)\n",
    "    loss=criterion(output,clean)\n",
    "    #-----------------Backward Pass---------------------\n",
    "    optimizer.zero_grad()\n",
    "    loss.backward()\n",
    "    optimizer.step()\n",
    "    \n",
    "    running_loss+=loss.item()\n",
    "    epochloss+=loss.item()\n",
    "  #-----------------Log-------------------------------\n",
    "  losslist.append(running_loss/l)\n",
    "  running_loss=0\n",
    "  print(\"======> epoch: {}/{}, Loss:{}\".format(epoch,epochs,loss.item()))\n",
    "    \n",
    "    \n",
    "      \n",
    "      \n",
    "    \n",
    "\n",
    " "
   ]
  },
  {
   "cell_type": "code",
   "execution_count": 11,
   "metadata": {
    "colab": {
     "base_uri": "https://localhost:8080/",
     "height": 287
    },
    "colab_type": "code",
    "id": "rT6HTaPB5IAL",
    "outputId": "1dbaa140-6874-4ebc-99a3-8bdfd14e7ae3"
   },
   "outputs": [
    {
     "data": {
      "text/plain": [
       "[<matplotlib.lines.Line2D at 0x206b766f390>]"
      ]
     },
     "execution_count": 11,
     "metadata": {},
     "output_type": "execute_result"
    },
    {
     "data": {
      "image/png": "[encoded data removed]",
      "text/plain": [
       "<Figure size 432x288 with 1 Axes>"
      ]
     },
     "metadata": {
      "needs_background": "light"
     },
     "output_type": "display_data"
    }
   ],
   "source": [
    "plt.plot(range(len(losslist)),losslist)"
   ]
  },
  {
   "cell_type": "code",
   "execution_count": 12,
   "metadata": {
    "colab": {
     "base_uri": "https://localhost:8080/",
     "height": 1151
    },
    "colab_type": "code",
    "id": "D2TAOjeZMBfp",
    "outputId": "0771669b-3b4d-4311-e233-a3b432960362"
   },
   "outputs": [
    {
     "data": {
      "image/png": "[encoded data removed]",
      "text/plain": [
       "<Figure size 1440x1440 with 18 Axes>"
      ]
     },
     "metadata": {
      "needs_background": "light"
     },
     "output_type": "display_data"
    }
   ],
   "source": [
    "\"\"\"Here, we try to visualize some of the results.\n",
    "  We randomly generate 6 numbers in between 1 and 10k , run them through the model,\n",
    "  and show the results with comparisons\n",
    "  \n",
    " \"\"\"\n",
    "\n",
    "\n",
    "\n",
    "\n",
    "f,axes= plt.subplots(6,3,figsize=(20,20))\n",
    "axes[0,0].set_title(\"Original Image\")\n",
    "axes[0,1].set_title(\"Dirty Image\")\n",
    "axes[0,2].set_title(\"Cleaned Image\")\n",
    "\n",
    "test_imgs=np.random.randint(0,10000,size=6)\n",
    "for idx in range((6)):\n",
    "  dirty=testset[test_imgs[idx]][0]\n",
    "  clean=testset[test_imgs[idx]][1]\n",
    "  label=testset[test_imgs[idx]][2]\n",
    "  dirty=dirty.view(dirty.size(0),-1).type(torch.FloatTensor)\n",
    "  dirty=dirty.to(device)\n",
    "  output=model(dirty)\n",
    "  \n",
    "  output=output.view(1,28,28)\n",
    "  output=output.permute(1,2,0).squeeze(2)\n",
    "  output=output.detach().cpu().numpy()\n",
    "  \n",
    "  dirty=dirty.view(1,28,28)\n",
    "  dirty=dirty.permute(1,2,0).squeeze(2)\n",
    "  dirty=dirty.detach().cpu().numpy()\n",
    "  \n",
    "  clean=clean.permute(1,2,0).squeeze(2)\n",
    "  clean=clean.detach().cpu().numpy()\n",
    "  \n",
    "  axes[idx,0].imshow(clean,cmap=\"gray\")\n",
    "  axes[idx,1].imshow(dirty,cmap=\"gray\")\n",
    "  axes[idx,2].imshow(output,cmap=\"gray\")\n",
    "  \n",
    "\n",
    "\n",
    "  \n",
    "  \n",
    "  \n",
    "  "
   ]
  },
  {
   "cell_type": "code",
   "execution_count": null,
   "metadata": {},
   "outputs": [],
   "source": [
    "torch.save(model.state_dict(),\"./\")  # We save the model state dict at PATH   "
   ]
  }
 ],
 "metadata": {
  "accelerator": "GPU",
  "colab": {
   "collapsed_sections": [],
   "name": "DenoisingAutoencoder.ipynb",
   "provenance": [],
   "version": "0.3.2"
  },
  "kernelspec": {
   "display_name": "Python 3",
   "language": "python",
   "name": "python3"
  },
  "language_info": {
   "codemirror_mode": {
    "name": "ipython",
    "version": 3
   },
   "file_extension": ".py",
   "mimetype": "text/x-python",
   "name": "python",
   "nbconvert_exporter": "python",
   "pygments_lexer": "ipython3",
   "version": "3.6.13"
  }
 },
 "nbformat": 4,
 "nbformat_minor": 1
}
